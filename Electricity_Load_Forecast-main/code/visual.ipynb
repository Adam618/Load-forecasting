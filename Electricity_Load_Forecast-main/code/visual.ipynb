{
 "cells": [
  {
   "cell_type": "code",
   "execution_count": null,
   "metadata": {},
   "outputs": [],
   "source": [
    "import matplotlib.pyplot as plt\n",
    "# 定义横坐标\n",
    "x_labels = ['0', '1', '3','5','7']\n",
    "# 定义多组纵坐标数据\n",
    "y_values1 = [2.830,2.990,2.765,2.633,2.843]\n",
    "y_values2 = [1.257,1.313,1.259,1.229,1.275]\n",
    "# 创建折线图\n",
    "plt.plot(x_labels, y_values1, marker='o', linestyle='-', color='blue', label='MSE')\n",
    "plt.plot(x_labels, y_values2, marker='s', linestyle='--', color='orange', label='MAE')\n",
    "# 添加标题和标签\n",
    "plt.title('')\n",
    "plt.xlabel('kernal size')\n",
    "plt.ylabel('MSE/MAE')\n",
    "# 添加图例\n",
    "plt.legend(loc = 'upper right',fontsize='x-small')\n",
    "plt.savefig(\"last\")\n",
    "# 显示折线图\n",
    "plt.show()"
   ]
  }
 ],
 "metadata": {
  "language_info": {
   "name": "python"
  }
 },
 "nbformat": 4,
 "nbformat_minor": 2
}
